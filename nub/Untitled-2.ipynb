{
 "cells": [
  {
   "cell_type": "code",
   "execution_count": null,
   "metadata": {},
   "outputs": [
    {
     "name": "stdout",
     "output_type": "stream",
     "text": [
      "=== SISTEMA DE VENTAS - PANADERÍA ===\n",
      "\n",
      "--- RESUMEN ---\n",
      "Cliente: \u001b[1;34mpepio\u001b[0m\n",
      "RUT: 1899899980\n",
      "Dirección: maria 889\n",
      "Pan comprado: \u001b[1;33m2300.0g (2.30 kg)\u001b[0m\n",
      "Total a pagar: \u001b[1;32m$2,300\u001b[0m\n",
      "\n",
      "--- RESUMEN ---\n",
      "Cliente: \u001b[1;34mjuan\u001b[0m\n",
      "RUT: 2188899990\n",
      "Dirección: oso\n",
      "Pan comprado: \u001b[1;33m8900.0g (8.90 kg)\u001b[0m\n",
      "Total a pagar: \u001b[1;32m$8,900\u001b[0m\n",
      "\n",
      "--- RESUMEN ---\n",
      "Cliente: \u001b[1;34mpepe\u001b[0m\n",
      "RUT: 2999999990\n",
      "Dirección: aoaklala i990\n",
      "Pan comprado: \u001b[1;33m5799.0g (5.80 kg)\u001b[0m\n",
      "Total a pagar: \u001b[1;32m$5,799\u001b[0m\n",
      "\n",
      "--- RESUMEN ---\n",
      "Cliente: \u001b[1;34mpepo\u001b[0m\n",
      "RUT: 299999990\n",
      "Dirección: pasas\n",
      "Pan comprado: \u001b[1;33m9000.0g (9.00 kg)\u001b[0m\n",
      "Total a pagar: \u001b[1;32m$9,000\u001b[0m\n"
     ]
    }
   ],
   "source": [
    "# Programa para calcular ventas diarias de una panadería\n",
    "def main():\n",
    "    ventas_diarias = []\n",
    "    precio_por_kilo = 1000  # Precio del pan amasado por kilo\n",
    "\n",
    "    print(\"=== SISTEMA DE VENTAS - PANADERÍA ===\")\n",
    "   \n",
    "    while True:\n",
    "        # Paso 1: Ingreso de datos del cliente\n",
    "        nombre = input(\"\\nNombre del cliente (o 'fin' para terminar): \")\n",
    "        if nombre.lower() == 'fin':\n",
    "            break\n",
    "       \n",
    "        rut = input(\"RUT del cliente: \")\n",
    "        direccion = input(\"Dirección del cliente: \")\n",
    "       \n",
    "        # Paso 2: Cantidad de pan (en gramos, convertidos a kilos)\n",
    "        gramos = float(input(\"Cantidad de pan (en gramos): \"))\n",
    "        kilos = gramos / 1000\n",
    "       \n",
    "        # Paso 3: Cálculo del precio total\n",
    "        total_pagar = kilos * precio_por_kilo\n",
    "        ventas_diarias.append(total_pagar)\n",
    "       \n",
    "        # Mostrar resumen por cliente (con colores)\n",
    "        print(\"\\n--- RESUMEN ---\")\n",
    "        print(f\"Cliente: \\033[1;34m{nombre}\\033[0m\")  # Azul\n",
    "        print(f\"RUT: {rut}\")\n",
    "        print(f\"Dirección: {direccion}\")\n",
    "        print(f\"Pan comprado: \\033[1;33m{gramos}g ({kilos:.2f} kg)\\033[0m\")  # Amarillo\n",
    "        print(f\"Total a pagar: \\033[1;32m${total_pagar:,.0f}\\033[0m\")  # Verde\n",
    "   \n",
    "    # Paso 4 y 5: Ventas totales del día\n",
    "    if ventas_diarias:\n",
    "        total_diario = sum(ventas_diarias)\n",
    "        print(\"\\n=== RESUMEN DIARIO ===\")\n",
    "        print(f\"Total de ventas: \\033[1;36m${total_diario:,.0f}\\033[0m\")  # Cyan\n",
    "        print(f\"Número de clientes: {len(ventas_diarias)}\")\n",
    "    else:\n",
    "        print(\"\\nNo se registraron ventas hoy.\")\n",
    "\n",
    "if __name__ == \"__main__\":\n",
    "    main()"
   ]
  }
 ],
 "metadata": {
  "kernelspec": {
   "display_name": "Python 3",
   "language": "python",
   "name": "python3"
  },
  "language_info": {
   "codemirror_mode": {
    "name": "ipython",
    "version": 3
   },
   "file_extension": ".py",
   "mimetype": "text/x-python",
   "name": "python",
   "nbconvert_exporter": "python",
   "pygments_lexer": "ipython3",
   "version": "3.12.4"
  }
 },
 "nbformat": 4,
 "nbformat_minor": 2
}
