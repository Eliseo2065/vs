{
  "cells": [
    {
      "cell_type": "markdown",
      "metadata": {
        "colab_type": "text",
        "id": "view-in-github"
      },
      "source": [
        "<a href=\"https://colab.research.google.com/github/Eliseo2065/vs/blob/master/primera%20red%20neuronal.ipynb\" target=\"_parent\"><img src=\"https://colab.research.google.com/assets/colab-badge.svg\" alt=\"Open In Colab\"/></a>"
      ]
    },
    {
      "cell_type": "code",
      "execution_count": 1,
      "metadata": {
        "id": "vtBypB_DER2H"
      },
      "outputs": [],
      "source": [
        "import tensorflow as tf\n",
        "import numpy as np"
      ]
    },
    {
      "cell_type": "code",
      "execution_count": 16,
      "metadata": {
        "id": "nV2tZzPwEpif"
      },
      "outputs": [],
      "source": [
        "celcius = np.array([-1, -5, -9, -11, -15, -17, 0,25, 28, 33, 35, 40], dtype=float)\n",
        "farenheit = np.array([-27, -40, -59, -9,-56, 0,62, 63, 22, 78, 92, 43], dtype=float)"
      ]
    },
    {
      "cell_type": "code",
      "execution_count": 17,
      "metadata": {
        "id": "4ZzApIeBIVbT"
      },
      "outputs": [],
      "source": [
        "capa = tf.keras.layers.Dense(units=1, input_shape=[1])\n",
        "modelo = tf.keras.Sequential([capa])\n"
      ]
    },
    {
      "cell_type": "code",
      "execution_count": 18,
      "metadata": {
        "id": "9Y6wUc4zJ_2A"
      },
      "outputs": [],
      "source": [
        "modelo.compile(\n",
        "    optimizer=tf.keras.optimizers.Adam(0.1),\n",
        "    loss='mean_squared_error'\n",
        ")"
      ]
    },
    {
      "cell_type": "code",
      "execution_count": 19,
      "metadata": {
        "colab": {
          "base_uri": "https://localhost:8080/"
        },
        "id": "wJ6YuYD_LMY1",
        "outputId": "fa1178d3-0fe7-4107-8418-e83002c18b8c"
      },
      "outputs": [
        {
          "name": "stdout",
          "output_type": "stream",
          "text": [
            "comenzando entrenamiento\n",
            "modelo entrenado\n"
          ]
        }
      ],
      "source": [
        "print(\"comenzando entrenamiento\")\n",
        "historial = modelo.fit(celcius, farenheit, epochs=1000, verbose=False)\n",
        "print(\"modelo entrenado\")"
      ]
    },
    {
      "cell_type": "code",
      "execution_count": 20,
      "metadata": {
        "colab": {
          "base_uri": "https://localhost:8080/",
          "height": 466
        },
        "id": "cr3InwpWMSSD",
        "outputId": "75e66af8-8fc9-4565-dc74-94b9690a1164"
      },
      "outputs": [
        {
          "data": {
            "text/plain": [
              "[<matplotlib.lines.Line2D at 0x79d5c8eb65c0>]"
            ]
          },
          "execution_count": 20,
          "metadata": {},
          "output_type": "execute_result"
        },
        {
          "data": {
            "image/png": "[encoded data removed]",
            "text/plain": [
              "<Figure size 640x480 with 1 Axes>"
            ]
          },
          "metadata": {},
          "output_type": "display_data"
        }
      ],
      "source": [
        "import matplotlib.pyplot as plt\n",
        "plt.xlabel(\"#epoca\")\n",
        "plt.ylabel(\"magnitud de perdida\")\n",
        "plt.plot(historial.history[\"loss\"])\n"
      ]
    },
    {
      "cell_type": "code",
      "execution_count": 21,
      "metadata": {
        "colab": {
          "base_uri": "https://localhost:8080/"
        },
        "id": "MfPfe3oWNZKm",
        "outputId": "08e8ad33-5ffe-47fb-dcc6-6abc65f4fd0a"
      },
      "outputs": [
        {
          "name": "stdout",
          "output_type": "stream",
          "text": [
            "hagamos una prediccion\n",
            "1/1 [==============================] - 0s 56ms/step\n",
            "el resultado es [[189.6749]]farenheit\n"
          ]
        }
      ],
      "source": [
        "print(\"hagamos una prediccion\")\n",
        "resultado = modelo.predict([100.0])\n",
        "print(\"el resultado es \" + str(resultado) + \"farenheit\")\n"
      ]
    }
  ],
  "metadata": {
    "colab": {
      "authorship_tag": "ABX9TyMjbQyDXIuwOwA2oHEOhUjJ",
      "include_colab_link": true,
      "provenance": []
    },
    "kernelspec": {
      "display_name": "Python 3 (ipykernel)",
      "language": "python",
      "name": "python3"
    },
    "language_info": {
      "name": "python",
      "version": "3.12.4"
    }
  },
  "nbformat": 4,
  "nbformat_minor": 0
}
